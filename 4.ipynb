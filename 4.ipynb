{
 "cells": [
  {
   "cell_type": "markdown",
   "id": "11dd66e1-6d14-4de1-a7ce-44fed78f44d9",
   "metadata": {},
   "source": [
    "# My Jupyter Notebook on IBM Watson Studio"
   ]
  },
  {
   "cell_type": "markdown",
   "id": "ac98f00a-4d42-47da-8e2c-12d40f869cc1",
   "metadata": {},
   "source": [
    "**Suvodeep Das**"
   ]
  },
  {
   "cell_type": "markdown",
   "id": "2b6e8888-131a-4262-ba57-3e0212e7d6b0",
   "metadata": {},
   "source": [
    "Student"
   ]
  },
  {
   "cell_type": "markdown",
   "id": "12a1fdbb-d351-41bb-b682-310b6754dee0",
   "metadata": {},
   "source": [
    "*I am interested in data science because I love to work with the insights present in the data*"
   ]
  },
  {
   "cell_type": "markdown",
   "id": "5a8d3bab-f1e6-43e9-ac29-27c8549a86c9",
   "metadata": {},
   "source": [
    "### Following Code will Display today's time and date"
   ]
  },
  {
   "cell_type": "code",
   "execution_count": 5,
   "id": "54361939-915c-4fae-8a86-cbe05524c68b",
   "metadata": {},
   "outputs": [
    {
     "name": "stdout",
     "output_type": "stream",
     "text": [
      "Today's Date and Time is  2022-12-26 05:59:10.055047\n"
     ]
    }
   ],
   "source": [
    "import datetime \n",
    "message = \"Today's Date and Time is \" \n",
    "print (message , datetime.datetime.now() )"
   ]
  },
  {
   "cell_type": "code",
   "execution_count": null,
   "id": "608909e7-6951-4120-bab4-5162200c2d67",
   "metadata": {},
   "outputs": [],
   "source": []
  }
 ],
 "metadata": {
  "kernelspec": {
   "display_name": "Python",
   "language": "python",
   "name": "conda-env-python-py"
  },
  "language_info": {
   "codemirror_mode": {
    "name": "ipython",
    "version": 3
   },
   "file_extension": ".py",
   "mimetype": "text/x-python",
   "name": "python",
   "nbconvert_exporter": "python",
   "pygments_lexer": "ipython3",
   "version": "3.7.12"
  }
 },
 "nbformat": 4,
 "nbformat_minor": 5
}
